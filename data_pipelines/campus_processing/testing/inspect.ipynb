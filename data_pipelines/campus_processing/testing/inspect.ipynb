{
 "cells": [
  {
   "cell_type": "markdown",
   "metadata": {},
   "source": [
    "# Inspect campus_standard_form.csv\n",
    "\n",
    "This notebook loads the CSV file, parses the JSON strings in the `series_upload` and `series_download` columns, and inspects the results to ensure that the objects can be parsed properly."
   ]
  },
  {
   "cell_type": "code",
   "execution_count": null,
   "metadata": {},
   "outputs": [],
   "source": [
    "import pandas as pd\n",
    "import json\n",
    "\n",
    "# Load the CSV file\n",
    "csv_file = 'campus_standard_form.csv'\n",
    "df = pd.read_csv(csv_file)\n",
    "print('CSV loaded successfully.')\n",
    "\n",
    "# Display the first few rows of the DataFrame\n",
    "df.head()"
   ]
  },
  {
   "cell_type": "code",
   "execution_count": null,
   "metadata": {},
   "outputs": [],
   "source": [
    "# Function to parse JSON strings safely\n",
    "def parse_json(json_str):\n",
    "    try:\n",
    "        return json.loads(json_str)\n",
    "    except Exception as e:\n",
    "        print('Error parsing JSON:', e)\n",
    "        return None\n",
    "\n",
    "# Parse the JSON strings in the series columns\n",
    "df['series_upload_parsed'] = df['series_upload'].apply(parse_json)\n",
    "df['series_download_parsed'] = df['series_download'].apply(parse_json)\n",
    "\n",
    "print('Parsed series columns successfully.')"
   ]
  },
  {
   "cell_type": "code",
   "execution_count": null,
   "metadata": {},
   "outputs": [],
   "source": [
    "# Inspect the parsed objects from the first row\n",
    "print('First row - series_upload_parsed:')\n",
    "print(df['series_upload_parsed'].iloc[0])\n",
    "print('Type:', type(df['series_upload_parsed'].iloc[0]))\n",
    "\n",
    "print('\\nFirst row - series_download_parsed:')\n",
    "print(df['series_download_parsed'].iloc[0])\n",
    "print('Type:', type(df['series_download_parsed'].iloc[0]))"
   ]
  }
 ],
 "metadata": {
  "kernelspec": {
   "display_name": "Python 3",
   "language": "python",
   "name": "python3"
  },
  "language_info": {
   "file_extension": ".py",
   "mimetype": "text/x-python",
   "name": "python",
   "version": "3.x"
  }
 },
 "nbformat": 4,
 "nbformat_minor": 2
}
