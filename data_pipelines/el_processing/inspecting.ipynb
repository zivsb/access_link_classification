{
 "cells": [
  {
   "cell_type": "code",
   "execution_count": null,
   "metadata": {},
   "outputs": [],
   "source": [
    "import pandas as pd\n",
    "\n",
    "input_csv = \"/home/ziv/bbr_diff_processing/exactlylab_data/unparsed_combined.csv\"\n",
    "df = pd.read_csv(input_csv, nrows=10)"
   ]
  },
  {
   "cell_type": "code",
   "execution_count": 7,
   "metadata": {},
   "outputs": [
    {
     "name": "stdout",
     "output_type": "stream",
     "text": [
      "CSV columns: ['id_upload', 'bin_number_upload', 'network_type_upload', 'associated_download_id', 'query_status_upload', 'date_upload', 'parser_upload', 'server_upload', 'client_upload', 'a_upload', 'raw_upload', 'upload_id', 'true_label', 'download_id', 'id_download', 'bin_number_download', 'network_type_download', 'query_status_download', 'date_download', 'parser_download', 'server_download', 'client_download', 'a_download', 'raw_download', 'connection_type']\n"
     ]
    }
   ],
   "source": [
    "print(\"CSV columns:\", df.columns.tolist())\n"
   ]
  },
  {
   "cell_type": "code",
   "execution_count": null,
   "metadata": {},
   "outputs": [],
   "source": [
    "print(\"Number of lines in df:\", len(df))"
   ]
  }
 ],
 "metadata": {
  "kernelspec": {
   "display_name": "venv",
   "language": "python",
   "name": "python3"
  },
  "language_info": {
   "codemirror_mode": {
    "name": "ipython",
    "version": 3
   },
   "file_extension": ".py",
   "mimetype": "text/x-python",
   "name": "python",
   "nbconvert_exporter": "python",
   "pygments_lexer": "ipython3",
   "version": "3.10.12"
  }
 },
 "nbformat": 4,
 "nbformat_minor": 2
}
